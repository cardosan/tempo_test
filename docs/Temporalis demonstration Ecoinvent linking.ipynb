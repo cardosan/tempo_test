{
 "cells": [
  {
   "cell_type": "markdown",
   "metadata": {},
   "source": [
    "# Temporalis demonstration notebook\n",
    "\n",
    "This notebook demonstrates the use of the [Brightway2 temporalis](http://brightway2-temporalis.readthedocs.org/en/latest/index.html) software. You should probably also know about the [Brightway2 LCA framework](http://brightwaylca.org/)."
   ]
  },
  {
   "cell_type": "code",
   "execution_count": 1,
   "metadata": {
    "collapsed": false
   },
   "outputs": [
    {
     "name": "stdout",
     "output_type": "stream",
     "text": [
      "Temporialis version: (0, 9, 1)\n"
     ]
    }
   ],
   "source": [
    "import bw2temporalis\n",
    "print(\"Temporialis version:\", bw2temporalis.__version__)\n",
    "assert bw2temporalis.__version__ >= (0, 9), \"Temporalis needs to be upgraded!\""
   ]
  },
  {
   "cell_type": "code",
   "execution_count": 2,
   "metadata": {
    "collapsed": true
   },
   "outputs": [],
   "source": [
    "from brightway2 import *\n",
    "from bw2temporalis import *"
   ]
  },
  {
   "cell_type": "code",
   "execution_count": 3,
   "metadata": {
    "collapsed": true
   },
   "outputs": [],
   "source": [
    "projects.current = \"temporalis demo test ecoinvent linking\""
   ]
  },
  {
   "cell_type": "code",
   "execution_count": 4,
   "metadata": {
    "collapsed": false
   },
   "outputs": [
    {
     "name": "stderr",
     "output_type": "stream",
     "text": [
      "Writing activities to SQLite3 database:\n",
      "0%                          100%\n",
      "[##############################] | ETA[sec]: 0.000 \n",
      "Total time elapsed: 0.373 sec\n"
     ]
    },
    {
     "name": "stdout",
     "output_type": "stream",
     "text": [
      "Applying strategy: normalize_units\n",
      "Applying strategy: drop_unspecified_subcategories\n",
      "Applied 2 strategies in 0.01 seconds\n",
      "Title: Writing activities to SQLite3 database:\n",
      "  Started: 11/09/2015 09:50:53\n",
      "  Finished: 11/09/2015 09:50:53\n",
      "  Total time elapsed: 0.373 sec\n",
      "  CPU %: 97.700000\n",
      "  Memory %: 0.378191\n",
      "Created database: biosphere3\n"
     ]
    }
   ],
   "source": [
    "if \"biosphere3\" not in databases:\n",
    "    create_default_biosphere3()"
   ]
  },
  {
   "cell_type": "code",
   "execution_count": 5,
   "metadata": {
    "collapsed": false
   },
   "outputs": [
    {
     "name": "stderr",
     "output_type": "stream",
     "text": [
      "Extracting ecospold2 files:\n",
      "0%                          100%\n",
      "[##############################] | ETA[sec]: 0.000 | Item ID: fff527b1-0fe4-4\n",
      "Total time elapsed: 67.010 sec\n"
     ]
    },
    {
     "name": "stdout",
     "output_type": "stream",
     "text": [
      "Title: Extracting ecospold2 files:\n",
      "  Started: 11/09/2015 09:51:41\n",
      "  Finished: 11/09/2015 09:52:48\n",
      "  Total time elapsed: 67.010 sec\n",
      "  CPU %: 87.000000\n",
      "  Memory %: 3.196692\n",
      "Extracted 11301 datasets in 67.20 seconds\n",
      "Applying strategy: normalize_units\n",
      "Applying strategy: remove_zero_amount_coproducts\n",
      "Applying strategy: remove_zero_amount_inputs_with_no_activity\n",
      "Applying strategy: remove_unnamed_parameters\n",
      "Applying strategy: es2_assign_only_product_with_amount_as_reference_product\n",
      "Applying strategy: assign_single_product_as_activity\n",
      "Applying strategy: create_composite_code\n",
      "Applying strategy: drop_unspecified_subcategories\n",
      "Applying strategy: link_biosphere_by_flow_uuid\n",
      "Applying strategy: link_internal_technosphere_by_composite_code\n",
      "Applying strategy: delete_exchanges_missing_activity\n",
      "Applying strategy: delete_ghost_exchanges\n",
      "Applied 12 strategies in 2.73 seconds"
     ]
    },
    {
     "name": "stderr",
     "output_type": "stream",
     "text": [
      "Writing activities to SQLite3 database:\n",
      "0%                          100%\n",
      "[##############################] | ETA[sec]: 0.000 \n",
      "Total time elapsed: 37.928 sec\n"
     ]
    },
    {
     "name": "stdout",
     "output_type": "stream",
     "text": [
      "\n",
      "Title: Writing activities to SQLite3 database:\n",
      "  Started: 11/09/2015 09:52:51\n",
      "  Finished: 11/09/2015 09:53:29\n",
      "  Total time elapsed: 37.928 sec\n",
      "  CPU %: 86.700000\n",
      "  Memory %: 3.462446\n",
      "Created database: ecoinvent 3.1 cutoff\n"
     ]
    },
    {
     "data": {
      "text/plain": [
       "Brightway2 SQLiteBackend: ecoinvent 3.1 cutoff"
      ]
     },
     "execution_count": 5,
     "metadata": {},
     "output_type": "execute_result"
    }
   ],
   "source": [
    "ei = SingleOutputEcospold2Importer(\n",
    "    \"/Users/cmutel/Documents/LCA Documents/Ecoinvent/3.1/cutoff/datasets\",\n",
    "    \"ecoinvent 3.1 cutoff\"\n",
    ")\n",
    "ei.apply_strategies()\n",
    "ei.write_database()"
   ]
  },
  {
   "cell_type": "code",
   "execution_count": 4,
   "metadata": {
    "collapsed": false
   },
   "outputs": [
    {
     "data": {
      "text/plain": [
       "11301"
      ]
     },
     "execution_count": 4,
     "metadata": {},
     "output_type": "execute_result"
    }
   ],
   "source": [
    "ei = None\n",
    "db = Database(\"ecoinvent 3.1 cutoff\")\n",
    "len(db)"
   ]
  },
  {
   "cell_type": "code",
   "execution_count": 8,
   "metadata": {
    "collapsed": false
   },
   "outputs": [],
   "source": [
    "databases['ecoinvent 3.1 cutoff']['static'] = True\n",
    "databases.flush()"
   ]
  },
  {
   "cell_type": "markdown",
   "metadata": {},
   "source": [
    "## Creating a temporal inventory database"
   ]
  },
  {
   "cell_type": "code",
   "execution_count": 9,
   "metadata": {
    "collapsed": true
   },
   "outputs": [],
   "source": [
    "METHANE = ('biosphere3', '0795345f-c7ae-410c-ad25-1845784c75f5')  # Methane, fossil, air, kg\n",
    "CO2 = ('biosphere3', '349b29d1-3e58-4c66-98b9-9d1a076efd2e')      # CO2, fossil, air, kg"
   ]
  },
  {
   "cell_type": "code",
   "execution_count": 10,
   "metadata": {
    "collapsed": false
   },
   "outputs": [
    {
     "name": "stderr",
     "output_type": "stream",
     "text": [
      "Writing activities to SQLite3 database:\n",
      "0%        100%\n",
      "[############] | ETA[sec]: 0.000 \n",
      "Total time elapsed: 0.004 sec\n"
     ]
    },
    {
     "name": "stdout",
     "output_type": "stream",
     "text": [
      "Title: Writing activities to SQLite3 database:\n",
      "  Started: 11/09/2015 09:59:01\n",
      "  Finished: 11/09/2015 09:59:01\n",
      "  Total time elapsed: 0.004 sec\n",
      "  CPU %: 115.900000\n",
      "  Memory %: 0.365901\n"
     ]
    }
   ],
   "source": [
    "data = {\n",
    "    ('example', 'Functional Unit'): {\n",
    "        'exchanges': [\n",
    "            {\n",
    "                'amount': 5,\n",
    "                'input': ('example', 'EOL'),\n",
    "                'temporal distribution': [\n",
    "                    (0, 1),\n",
    "                    (1, 1),\n",
    "                    (2, 1),\n",
    "                    (3, 1),\n",
    "                    (4, 1)\n",
    "                ],\n",
    "                'type': 'technosphere'\n",
    "            },\n",
    "        ],\n",
    "        'name': 'Functional Unit',\n",
    "        'type': 'process'\n",
    "    },\n",
    "    ('example', 'EOL'): {\n",
    "        'exchanges': [\n",
    "            {\n",
    "                'amount': 0.8,\n",
    "                'input': ('example', 'Waste'),\n",
    "                'type': 'technosphere'\n",
    "            },\n",
    "            {\n",
    "                'amount': 0.2,\n",
    "                'input': ('example', 'Landfill'),\n",
    "                'type': 'technosphere'\n",
    "            },\n",
    "            {\n",
    "                'amount': 1,\n",
    "                'input': ('example', 'Use'),\n",
    "                'type': 'technosphere'\n",
    "            },\n",
    "        ],\n",
    "        'name': 'EOL',\n",
    "        'type': 'process'\n",
    "    },\n",
    "    ('example', 'Use'): {\n",
    "        'exchanges': [\n",
    "            {\n",
    "                'amount': 1,\n",
    "                'input': ('example', 'Production'),\n",
    "                'temporal distribution': [(-0.5, 1)],\n",
    "                'type': 'technosphere'\n",
    "            },\n",
    "        ],\n",
    "        'name': 'Use',\n",
    "        'type': 'process'\n",
    "    },\n",
    "    ('example', 'Production'): {\n",
    "        'exchanges': [\n",
    "            {\n",
    "                'amount': 1,\n",
    "                'input': ('example', 'Transport'),\n",
    "                'temporal distribution': [(-0.1, 1)],\n",
    "                'type': 'technosphere'\n",
    "            },\n",
    "        ],\n",
    "        'name': 'Production',\n",
    "        'type': 'process'\n",
    "    },\n",
    "    ('example', 'Transport'): {\n",
    "        'exchanges': [\n",
    "            {\n",
    "                'amount': 1,\n",
    "                'input': ('example', 'Sawmill'),\n",
    "                'type': 'technosphere'\n",
    "            },\n",
    "            {\n",
    "                'amount': 0.1,\n",
    "                'input': CO2,\n",
    "                'type': 'biosphere'\n",
    "            },\n",
    "        ],\n",
    "        'name': 'Production',\n",
    "        'type': 'process'\n",
    "    },\n",
    "    ('example', 'Sawmill'): {\n",
    "        'exchanges': [\n",
    "            {\n",
    "                'amount': 1.2,\n",
    "                'input': ('example', 'Forest'),\n",
    "                'temporal distribution': [(-0.5, 1.2)],\n",
    "                'type': 'technosphere'\n",
    "            },\n",
    "            {\n",
    "                'amount': 0.1,\n",
    "                'input': CO2,\n",
    "                'type': 'biosphere'\n",
    "            },\n",
    "        ],\n",
    "        'name': 'Sawmill',\n",
    "        'type': 'process'\n",
    "    },\n",
    "    ('example', 'Forest'): {\n",
    "        'exchanges': [\n",
    "            {\n",
    "                'amount': -.2 * 6,\n",
    "                'input': CO2,\n",
    "                'temporal distribution': [(x, -.2) for x in (0, 5, 10, 15, 20, 30)],\n",
    "                'type': 'biosphere'\n",
    "            },\n",
    "            {\n",
    "                'amount': 1.5,\n",
    "                'input': ('example', 'Thinning'),\n",
    "                'temporal distribution': [\n",
    "                    (5, .5),\n",
    "                    (10, .5),\n",
    "                    (15, .5),\n",
    "                ],\n",
    "                'type': 'technosphere'\n",
    "            },\n",
    "            {\n",
    "                'amount': 1.5,\n",
    "                'input': db.random(),\n",
    "                'temporal distribution': [\n",
    "                    (5, .5),\n",
    "                    (10, .5),\n",
    "                    (15, .5),\n",
    "                ],\n",
    "                'type': 'technosphere'\n",
    "            },\n",
    "        ],\n",
    "        'name': 'Forest',\n",
    "        'type': 'process'\n",
    "    },\n",
    "    ('example', 'Thinning'): {\n",
    "        'exchanges': [\n",
    "            {\n",
    "                'amount': 1,\n",
    "                'input': ('example', 'Thinning'),\n",
    "                'type': 'production'\n",
    "            },\n",
    "            {\n",
    "                'amount': 1,\n",
    "                'input': ('example', 'Avoided impact - thinnings'),\n",
    "                'type': 'production'\n",
    "            },\n",
    "        ],\n",
    "        'name': 'Thinning',\n",
    "        'type': 'process'\n",
    "    },\n",
    "    ('example', 'Landfill'): {\n",
    "        'exchanges': [\n",
    "            {\n",
    "                'amount': 0.1,\n",
    "                'input': METHANE,\n",
    "                'temporal distribution': [\n",
    "                    (20, 0.025),\n",
    "                    (30, 0.025),\n",
    "                    (40, 0.025),\n",
    "                    (50, 0.025)\n",
    "                ],\n",
    "                'type': 'biosphere'\n",
    "            },\n",
    "        ],\n",
    "        'name': 'Landfill',\n",
    "        'type': 'process'\n",
    "    },\n",
    "    ('example', 'Waste'): {\n",
    "        'exchanges': [\n",
    "            {\n",
    "                'amount': 1,\n",
    "                'input': ('example', 'Waste'),\n",
    "                'type': 'production'\n",
    "            },\n",
    "            {\n",
    "                'amount': 1,\n",
    "                'input': ('example', 'Avoided impact - waste'),\n",
    "                'type': 'production'\n",
    "            },\n",
    "        ],\n",
    "        'name': 'Waste',\n",
    "        'type': 'process'\n",
    "    },\n",
    "    ('example', 'Avoided impact - waste'): {\n",
    "        'exchanges': [\n",
    "            {\n",
    "                'amount': -0.6,\n",
    "                'input': CO2,\n",
    "                'type': 'biosphere'\n",
    "            },\n",
    "            {\n",
    "                'amount': 1,\n",
    "                'input': ('example', 'Avoided impact - waste'),\n",
    "                'type': 'production'\n",
    "            },\n",
    "        ],\n",
    "        'name': 'Avoided impact - waste',\n",
    "        'type': 'process'\n",
    "    },\n",
    "    ('example', 'Avoided impact - thinnings'): {\n",
    "        'exchanges': [\n",
    "            {\n",
    "                'amount': -0.2,\n",
    "                'input': CO2,\n",
    "                'type': 'biosphere'\n",
    "            },\n",
    "            {\n",
    "                'amount': 1,\n",
    "                'input': ('example', 'Avoided impact - thinnings'),\n",
    "                'type': 'production'\n",
    "            },\n",
    "        ],\n",
    "        'name': 'Avoided impact - thinnings',\n",
    "        'type': 'process'\n",
    "    }\n",
    "}\n",
    "\n",
    "db = Database(\"example\")\n",
    "db.write(data)"
   ]
  },
  {
   "cell_type": "markdown",
   "metadata": {},
   "source": [
    "## Create static LCIA method\n",
    "\n",
    "Note the units will be different from the dynamic method; this is watts/m2.\n",
    "\n",
    "Values from 2013 assessment report."
   ]
  },
  {
   "cell_type": "code",
   "execution_count": 11,
   "metadata": {
    "collapsed": false
   },
   "outputs": [],
   "source": [
    "if ('IPCC 2013 100',) not in methods:\n",
    "    standard_ipcc = Method(('IPCC 2013 100',))\n",
    "    standard_ipcc.register()\n",
    "    standard_ipcc.write([\n",
    "        [CO2, 1],\n",
    "        [METHANE, 34]\n",
    "    ])"
   ]
  },
  {
   "cell_type": "markdown",
   "metadata": {},
   "source": [
    "## Create dynamic methods\n",
    "\n",
    "Adapted from [co-fire library](https://github.com/gschivley/co-fire).\n",
    "\n",
    "Units are degree Kelvin."
   ]
  },
  {
   "cell_type": "code",
   "execution_count": 12,
   "metadata": {
    "collapsed": false
   },
   "outputs": [],
   "source": [
    "from bw2temporalis.cofire import create_temperature_method\n",
    "\n",
    "if \"GTP\" not in dynamic_methods:\n",
    "    create_temperature_method()"
   ]
  },
  {
   "cell_type": "markdown",
   "metadata": {},
   "source": [
    "## Check static LCA scores"
   ]
  },
  {
   "cell_type": "code",
   "execution_count": 13,
   "metadata": {
    "collapsed": false
   },
   "outputs": [
    {
     "data": {
      "text/plain": [
       "2.6548530268901342"
      ]
     },
     "execution_count": 13,
     "metadata": {},
     "output_type": "execute_result"
    }
   ],
   "source": [
    "lca = LCA({('example', 'EOL'): 1}, ('IPCC 2013 100',))\n",
    "lca.lci()\n",
    "lca.lcia()\n",
    "lca.score"
   ]
  },
  {
   "cell_type": "code",
   "execution_count": 14,
   "metadata": {
    "collapsed": false
   },
   "outputs": [
    {
     "data": {
      "text/plain": [
       "[(-1.4400001144409202, 1.2000000476837158, 'Forest'),\n",
       " (0.68000002026557937, 0.20000000298023224, 'Landfill'),\n",
       " (0.48000002622604399, -0.80000001192092896, 'Avoided impact - waste'),\n",
       " (0.36000001966953299, -1.8000000715255737, 'Avoided impact - thinnings'),\n",
       " (0.22752175250108309,\n",
       "  0.15203591726107524,\n",
       "  'aluminium production, primary, liquid, prebake'),\n",
       " (0.22539062254790079,\n",
       "  0.53393345070014231,\n",
       "  'treatment of recovered paper to linerboard, testliner'),\n",
       " (0.22308123140358974, 0.26273286914447513, 'pig iron production'),\n",
       " (0.14939944804340005,\n",
       "  0.35591984096027912,\n",
       "  'treatment of recovered paper to fluting medium, wellenstoff'),\n",
       " (0.10000000149011612, 1.0, 'Production'),\n",
       " (0.10000000149011612, 1.0, 'Sawmill'),\n",
       " (0.098270546938995215,\n",
       "  0.82769617407402507,\n",
       "  'transport, freight, lorry 16-32 metric ton, EURO3'),\n",
       " (0.081829424968830181, 0.097498746252431878, 'clinker production'),\n",
       " (0.080427337361914791,\n",
       "  0.26819840072041451,\n",
       "  'natural gas production, unprocessed, at extraction'),\n",
       " (0.079137507872838547,\n",
       "  1.4362951180241543,\n",
       "  'transport, freight, lorry >32 metric ton, EURO3'),\n",
       " (0.076799361160911753,\n",
       "  1.0502117847738459,\n",
       "  'diesel, burned in building machine'),\n",
       " (0.071492026135492451, 1.155795716379185, 'corrugated board box production'),\n",
       " (0.057424527414220022,\n",
       "  0.038372553844772013,\n",
       "  'aluminium production, primary, liquid, prebake'),\n",
       " (0.057332006437475228,\n",
       "  0.10865875366495424,\n",
       "  'electricity production, natural gas, at conventional power plant'),\n",
       " (0.056291172726543458, 0.27586950007361954, 'sinter production, iron'),\n",
       " (0.041486248938289373,\n",
       "  0.080011004858727461,\n",
       "  'electricity production, natural gas, at conventional power plant'),\n",
       " (0.04082653059395637, 0.11242209116992311, 'natural gas production'),\n",
       " (0.039944004924122263,\n",
       "  0.33643345928881485,\n",
       "  'transport, freight, lorry 16-32 metric ton, EURO3'),\n",
       " (0.039449503993081725,\n",
       "  0.093982015135027283,\n",
       "  'treatment of recovered paper to linerboard, testliner'),\n",
       " (0.037615559904255309,\n",
       "  0.025135689622930252,\n",
       "  'aluminium production, primary, liquid, prebake'),\n",
       " (0.036739207998746796,\n",
       "  0.07085579016955916,\n",
       "  'electricity production, natural gas, at conventional power plant')]"
      ]
     },
     "execution_count": 14,
     "metadata": {},
     "output_type": "execute_result"
    }
   ],
   "source": [
    "from bw2analyzer import ContributionAnalysis\n",
    "\n",
    "ContributionAnalysis().annotated_top_processes(lca)"
   ]
  },
  {
   "cell_type": "code",
   "execution_count": 15,
   "metadata": {
    "collapsed": false
   },
   "outputs": [
    {
     "data": {
      "text/plain": [
       "[(1.8185420057057067, 1.8185420057057069, 'Carbon dioxide, fossil'),\n",
       " (0.83631102118442779, 0.024597382976012584, 'Methane, fossil'),\n",
       " (0.0, 3.2854764333954605e-17, 'Mefenpyr-diethyl'),\n",
       " (0.0, 0.00048051297918028953, 'Sulfate'),\n",
       " (0.0, 0.0019529885330217081, 'Dissolved solids'),\n",
       " (0.0, 1.3284254790559865e-07, 'Tin, ion'),\n",
       " (0.0, 0.0041994922602254584, 'Calcium, ion'),\n",
       " (0.0, 3.7911511377531511e-06, 'Boron'),\n",
       " (0.0, 4.7487725940955603e-08, 'Ethylene diamine'),\n",
       " (0.0, 3.5235065122803771e-07, 'Arsenic, ion'),\n",
       " (0.0, 2.7943566526577297e-06, 'Copper'),\n",
       " (0.0,\n",
       "  1.9353563446614165e-07,\n",
       "  'Tantalum, 81.9% in tantalite, 1.6E-4% in crude ore, in ground'),\n",
       " (0.0, 0.00023175490196034542, 'Sulfur oxides'),\n",
       " (0.0, 0.00029571097499244884, 'Hydrocarbons, aromatic'),\n",
       " (0.0, 1.1729489505609282e-06, 'Silicon'),\n",
       " (0.0, 1.1534457673605333e-07, 'Lead'),\n",
       " (0.0, 0.00062200996219085951, 'Dissolved solids'),\n",
       " (0.0, 0.0, 'Oryzalin'),\n",
       " (0.0, 0.036938088335420394, 'Occupation, traffic area, road network'),\n",
       " (0.0, 7.5891651946036005e-08, 'Zinc-65'),\n",
       " (0.0, 3.9441919191632181e-07, 'Methanol'),\n",
       " (0.0, 7.4343633768102692e-07, 'Arsenic'),\n",
       " (0.0, 8.8638430832492084e-13, 'Zeta-cypermethrin'),\n",
       " (0.0, 0.00050277230938145542, 'Transformation, from pasture, man made'),\n",
       " (0.0, 3.666102404551505e-07, 'Chromium')]"
      ]
     },
     "execution_count": 15,
     "metadata": {},
     "output_type": "execute_result"
    }
   ],
   "source": [
    "ContributionAnalysis().annotated_top_emissions(lca)"
   ]
  },
  {
   "cell_type": "markdown",
   "metadata": {},
   "source": [
    "## Dynamic LCA"
   ]
  },
  {
   "cell_type": "code",
   "execution_count": 16,
   "metadata": {
    "collapsed": false
   },
   "outputs": [],
   "source": [
    "%matplotlib inline"
   ]
  },
  {
   "cell_type": "code",
   "execution_count": 17,
   "metadata": {
    "collapsed": true
   },
   "outputs": [],
   "source": [
    "from matplotlib import pyplot as plt\n",
    "import numpy as np"
   ]
  },
  {
   "cell_type": "code",
   "execution_count": 8,
   "metadata": {
    "collapsed": false
   },
   "outputs": [],
   "source": [
    "dlca = DynamicLCA({('example', 'EOL'): 1}, (\"GTP\", \"worst case\"))\n",
    "timeline = dlca.calculate()"
   ]
  },
  {
   "cell_type": "code",
   "execution_count": 6,
   "metadata": {
    "collapsed": true
   },
   "outputs": [],
   "source": [
    "dlca.timeline = Timeline()\n",
    "dlca.gt = GraphTraversal()\n",
    "dlca.heap = []\n",
    "dlca.calc_number = 0"
   ]
  },
  {
   "cell_type": "code",
   "execution_count": 7,
   "metadata": {
    "collapsed": false
   },
   "outputs": [],
   "source": [
    "dlca.gt_results = dlca.gt.calculate(\n",
    "    dlca.demand,\n",
    "    dlca.worst_case_method,\n",
    "    **dlca.gt_kwargs\n",
    ")"
   ]
  },
  {
   "cell_type": "code",
   "execution_count": null,
   "metadata": {
    "collapsed": true
   },
   "outputs": [],
   "source": [
    "dlca."
   ]
  },
  {
   "cell_type": "code",
   "execution_count": null,
   "metadata": {
    "collapsed": true
   },
   "outputs": [],
   "source": []
  },
  {
   "cell_type": "code",
   "execution_count": 9,
   "metadata": {
    "collapsed": false
   },
   "outputs": [],
   "source": [
    "characterized = timeline.characterize_dynamic(\"GTP\")"
   ]
  },
  {
   "cell_type": "code",
   "execution_count": 10,
   "metadata": {
    "collapsed": false
   },
   "outputs": [],
   "source": [
    "%matplotlib inline"
   ]
  },
  {
   "cell_type": "code",
   "execution_count": 11,
   "metadata": {
    "collapsed": true
   },
   "outputs": [],
   "source": [
    "import seaborn as sns\n",
    "import matplotlib.pyplot as plt\n",
    "\n",
    "sns.set(style=\"white\", palette=\"muted\", color_codes=True)"
   ]
  },
  {
   "cell_type": "code",
   "execution_count": 12,
   "metadata": {
    "collapsed": false
   },
   "outputs": [
    {
     "data": {
      "image/png": "[encoded data removed]",
      "text/plain": [
       "<matplotlib.figure.Figure at 0x107946e10>"
      ]
     },
     "metadata": {},
     "output_type": "display_data"
    }
   ],
   "source": [
    "plt.plot(*characterized)\n",
    "plt.xlabel(\"Time (years)\")\n",
    "plt.ylabel(r\"$\\Delta T$ (° Kelvin)\")\n",
    "plt.tight_layout()"
   ]
  },
  {
   "cell_type": "code",
   "execution_count": null,
   "metadata": {
    "collapsed": true
   },
   "outputs": [],
   "source": []
  }
 ],
 "metadata": {
  "kernelspec": {
   "display_name": "Python 3",
   "language": "python",
   "name": "python3"
  },
  "language_info": {
   "codemirror_mode": {
    "name": "ipython",
    "version": 3
   },
   "file_extension": ".py",
   "mimetype": "text/x-python",
   "name": "python",
   "nbconvert_exporter": "python",
   "pygments_lexer": "ipython3",
   "version": "3.4.3"
  }
 },
 "nbformat": 4,
 "nbformat_minor": 0
}
